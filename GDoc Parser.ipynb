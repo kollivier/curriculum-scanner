{
 "cells": [
  {
   "cell_type": "code",
   "execution_count": 1,
   "metadata": {},
   "outputs": [],
   "source": [
    "\n",
    "# file_id = '1p48DXwSDtKzZVcW5UHnRpRwn4jQq5Abv-4jcJtQf9lk'\n",
    "\n",
    "# # client.parse_document(, 'KICD Secondary Curriculum Vol II', metadata=metadata, sheet=\"1hsAmI9nlk_yqyEv0JGp6c_8t3ShBeTOxvWHu-424b_A\")\n",
    "\n",
    "# # structure = client.convert_html_to_structure(doc.read())"
   ]
  },
  {
   "cell_type": "code",
   "execution_count": null,
   "metadata": {},
   "outputs": [],
   "source": []
  },
  {
   "cell_type": "code",
   "execution_count": 2,
   "metadata": {},
   "outputs": [],
   "source": [
    "from kicd.parsing import *\n",
    "from googleclient import GoogleDriveClient\n",
    "\n",
    "client = GoogleDriveClient()\n",
    "\n",
    "metadata = {\n",
    "  'Country': 'Kenya',\n",
    "  'Source ID': 'kicd-secondary-vol-ii',\n",
    "  'Link to source doc': '',\n",
    "  'Link to OCR ouput': ''\n",
    "}\n",
    "\n",
    "items = parse_doc_to_line_items()\n",
    "entries = extract_standard_entries_from_line_items(items)\n",
    "sheet = client.write_csv_from_structure(entries, \"KICD Secondary Curriculum Vol II\", metadata=metadata, sheet=\"1nqv6CoT0ORtdrfOmhePiGmkNz4cDbu_HFPfpzfwQu4E\")\n"
   ]
  },
  {
   "cell_type": "code",
   "execution_count": null,
   "metadata": {},
   "outputs": [],
   "source": []
  },
  {
   "cell_type": "code",
   "execution_count": null,
   "metadata": {},
   "outputs": [],
   "source": []
  },
  {
   "cell_type": "code",
   "execution_count": null,
   "metadata": {
    "scrolled": false
   },
   "outputs": [],
   "source": []
  },
  {
   "cell_type": "code",
   "execution_count": null,
   "metadata": {},
   "outputs": [],
   "source": []
  },
  {
   "cell_type": "code",
   "execution_count": null,
   "metadata": {},
   "outputs": [],
   "source": []
  },
  {
   "cell_type": "code",
   "execution_count": null,
   "metadata": {},
   "outputs": [],
   "source": []
  },
  {
   "cell_type": "code",
   "execution_count": null,
   "metadata": {},
   "outputs": [],
   "source": [
    "    "
   ]
  }
 ],
 "metadata": {
  "kernelspec": {
   "display_name": "Python 3",
   "language": "python",
   "name": "python3"
  },
  "language_info": {
   "codemirror_mode": {
    "name": "ipython",
    "version": 3
   },
   "file_extension": ".py",
   "mimetype": "text/x-python",
   "name": "python",
   "nbconvert_exporter": "python",
   "pygments_lexer": "ipython3",
   "version": "3.7.5"
  }
 },
 "nbformat": 4,
 "nbformat_minor": 2
}
